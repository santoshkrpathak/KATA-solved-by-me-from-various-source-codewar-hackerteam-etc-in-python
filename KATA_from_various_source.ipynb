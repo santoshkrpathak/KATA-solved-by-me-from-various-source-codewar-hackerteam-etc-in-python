{
 "cells": [
  {
   "cell_type": "markdown",
   "metadata": {},
   "source": [
    "### Count the smiley faces! [codewars]"
   ]
  },
  {
   "cell_type": "markdown",
   "metadata": {},
   "source": [
    "* Description:\n",
    "* Given an array (arr) as an argument complete the function countSmileys that should return the total number of smiling faces.\n",
    "* Rules for a smiling face:\n",
    "* -Each smiley face must contain a valid pair of eyes. Eyes can be marked as : or ;\n",
    "* -A smiley face can have a nose but it does not have to. Valid characters for a nose are - or ~\n",
    "* -Every smiling face must have a smiling mouth that should be marked with either ) or D.\n",
    "* No additional characters are allowed except for those mentioned.\n",
    "* Valid smiley face examples:\n",
    "* :) :D ;-D :~)\n",
    "* Invalid smiley faces:\n",
    "* ;( :> :} :] \n",
    "* Example cases:\n",
    "\n",
    "* countSmileys([':)', ';(', ';}', ':-D']);       // should return 2;\n",
    "* countSmileys([';D', ':-(', ':-)', ';~)']);     // should return 3;\n",
    "* countSmileys([';]', ':[', ';*', ':$', ';-D']); // should return 1;\n",
    "* Note: In case of an empty array return 0. You will not be tested with invalid input (input will always be an array). \n",
    "* Order of the face (eyes, nose, mouth) elements will always be the same"
   ]
  },
  {
   "cell_type": "code",
   "execution_count": 71,
   "metadata": {},
   "outputs": [],
   "source": [
    "import re\n",
    "def count_smileys(arr):      \n",
    "    return len([x for x in arr if re.search(\"^(:|;)(-|~)?(\\)|D)$\" ,x)])\n",
    "    \n",
    "   "
   ]
  },
  {
   "cell_type": "code",
   "execution_count": 72,
   "metadata": {},
   "outputs": [
    {
     "data": {
      "text/plain": [
       "3"
      ]
     },
     "execution_count": 72,
     "metadata": {},
     "output_type": "execute_result"
    }
   ],
   "source": [
    "count_smileys([';D', ':-(', ':-)', ';~)'])"
   ]
  },
  {
   "cell_type": "markdown",
   "metadata": {},
   "source": [
    "### Find all pairs [codewars]"
   ]
  },
  {
   "cell_type": "markdown",
   "metadata": {},
   "source": [
    "You are given array of integers, your task will be to count all pairs in that array and return their count.\n",
    "\n",
    "Notes:\n",
    "\n",
    "* Array can be empty or contain only one value; in this case return 0\n",
    "* If there are more pairs of a certain number, count each pair only once. \n",
    "* E.g.: for [0, 0, 0, 0] the return value is 2 (= 2 pairs of 0s)\n",
    "* Random tests: maximum array length is 1000, range of values in array is between 0 and 1000\n",
    "* Examples\n",
    "* [1, 2, 5, 6, 5, 2]  -->  2"
   ]
  },
  {
   "cell_type": "markdown",
   "metadata": {},
   "source": [
    "#### 1st Attempt"
   ]
  },
  {
   "cell_type": "code",
   "execution_count": 58,
   "metadata": {},
   "outputs": [],
   "source": [
    "def duplicates(arr):\n",
    "        uniq_num=set(arr)\n",
    "        global_count=0\n",
    "        for num in uniq_num:\n",
    "            count=0\n",
    "            pair=0\n",
    "            for n in arr :\n",
    "                if(num==n):                    \n",
    "                    count+=1                    \n",
    "            pair=count//2           \n",
    "            global_count+=pair            \n",
    "        return global_count                \n",
    "        "
   ]
  },
  {
   "cell_type": "markdown",
   "metadata": {},
   "source": [
    "### 2nd attempt"
   ]
  },
  {
   "cell_type": "code",
   "execution_count": 60,
   "metadata": {},
   "outputs": [],
   "source": [
    "def duplicates(arr): \n",
    "    return(sum([arr.count(x)//2 for x in set(arr)]))  "
   ]
  },
  {
   "cell_type": "code",
   "execution_count": 61,
   "metadata": {},
   "outputs": [
    {
     "data": {
      "text/plain": [
       "2"
      ]
     },
     "execution_count": 61,
     "metadata": {},
     "output_type": "execute_result"
    }
   ],
   "source": [
    "a= [0, 0, 0, 0]\n",
    "duplicates(a)"
   ]
  },
  {
   "cell_type": "code",
   "execution_count": null,
   "metadata": {},
   "outputs": [],
   "source": []
  },
  {
   "cell_type": "code",
   "execution_count": null,
   "metadata": {},
   "outputs": [],
   "source": []
  },
  {
   "cell_type": "code",
   "execution_count": null,
   "metadata": {},
   "outputs": [],
   "source": []
  }
 ],
 "metadata": {
  "kernelspec": {
   "display_name": "Python 3",
   "language": "python",
   "name": "python3"
  },
  "language_info": {
   "codemirror_mode": {
    "name": "ipython",
    "version": 3
   },
   "file_extension": ".py",
   "mimetype": "text/x-python",
   "name": "python",
   "nbconvert_exporter": "python",
   "pygments_lexer": "ipython3",
   "version": "3.7.3"
  }
 },
 "nbformat": 4,
 "nbformat_minor": 2
}
