{
 "cells": [
  {
   "cell_type": "markdown",
   "metadata": {},
   "source": [
    "### Find all pairs [codewars]"
   ]
  },
  {
   "cell_type": "markdown",
   "metadata": {},
   "source": [
    "You are given array of integers, your task will be to count all pairs in that array and return their count.\n",
    "\n",
    "Notes:\n",
    "\n",
    "* Array can be empty or contain only one value; in this case return 0\n",
    "* If there are more pairs of a certain number, count each pair only once. \n",
    "* E.g.: for [0, 0, 0, 0] the return value is 2 (= 2 pairs of 0s)\n",
    "* Random tests: maximum array length is 1000, range of values in array is between 0 and 1000\n",
    "* Examples\n",
    "* [1, 2, 5, 6, 5, 2]  -->  2"
   ]
  },
  {
   "cell_type": "markdown",
   "metadata": {},
   "source": [
    "#### 1st Attempt"
   ]
  },
  {
   "cell_type": "code",
   "execution_count": 58,
   "metadata": {},
   "outputs": [],
   "source": [
    "def duplicates(arr):\n",
    "        uniq_num=set(arr)\n",
    "        global_count=0\n",
    "        for num in uniq_num:\n",
    "            count=0\n",
    "            pair=0\n",
    "            for n in arr :\n",
    "                if(num==n):                    \n",
    "                    count+=1                    \n",
    "            pair=count//2           \n",
    "            global_count+=pair            \n",
    "        return global_count                \n",
    "        "
   ]
  },
  {
   "cell_type": "markdown",
   "metadata": {},
   "source": [
    "### 2nd attempt"
   ]
  },
  {
   "cell_type": "code",
   "execution_count": 60,
   "metadata": {},
   "outputs": [],
   "source": [
    "def duplicates(arr): \n",
    "    return(sum([arr.count(x)//2 for x in set(arr)]))  "
   ]
  },
  {
   "cell_type": "code",
   "execution_count": 61,
   "metadata": {},
   "outputs": [
    {
     "data": {
      "text/plain": [
       "2"
      ]
     },
     "execution_count": 61,
     "metadata": {},
     "output_type": "execute_result"
    }
   ],
   "source": [
    "a= [0, 0, 0, 0]\n",
    "duplicates(a)"
   ]
  },
  {
   "cell_type": "code",
   "execution_count": null,
   "metadata": {},
   "outputs": [],
   "source": []
  },
  {
   "cell_type": "code",
   "execution_count": null,
   "metadata": {},
   "outputs": [],
   "source": []
  },
  {
   "cell_type": "code",
   "execution_count": null,
   "metadata": {},
   "outputs": [],
   "source": []
  }
 ],
 "metadata": {
  "kernelspec": {
   "display_name": "Python 3",
   "language": "python",
   "name": "python3"
  },
  "language_info": {
   "codemirror_mode": {
    "name": "ipython",
    "version": 3
   },
   "file_extension": ".py",
   "mimetype": "text/x-python",
   "name": "python",
   "nbconvert_exporter": "python",
   "pygments_lexer": "ipython3",
   "version": "3.7.3"
  }
 },
 "nbformat": 4,
 "nbformat_minor": 2
}
